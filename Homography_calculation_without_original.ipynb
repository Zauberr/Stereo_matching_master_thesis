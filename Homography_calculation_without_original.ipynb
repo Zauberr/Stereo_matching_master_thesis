{
 "cells": [
  {
   "cell_type": "code",
   "execution_count": 2,
   "metadata": {
    "collapsed": true
   },
   "outputs": [],
   "source": [
    "import numpy as np\n",
    "import Homography_calculation_without_original as hc"
   ]
  },
  {
   "cell_type": "code",
   "execution_count": 10,
   "outputs": [
    {
     "data": {
      "text/plain": "array([[ 5.73036e-01, -3.97544e-01,  7.15752e-01],\n       [ 8.18744e-01,  2.77548e-01, -5.01336e-01],\n       [ 6.48000e-04,  8.73864e-01,  4.84844e-01]])"
     },
     "execution_count": 10,
     "metadata": {},
     "output_type": "execute_result"
    }
   ],
   "source": [
    "rotation_L = hc.rotation_matrix(0.764, 0.487, 0.227, 0.356)\n",
    "rotation_L"
   ],
   "metadata": {
    "collapsed": false,
    "pycharm": {
     "name": "#%%\n"
    }
   }
  },
  {
   "cell_type": "code",
   "execution_count": 11,
   "outputs": [
    {
     "data": {
      "text/plain": "array([[ 5.73036e-01, -3.97544e-01,  7.15752e-01],\n       [ 8.18744e-01,  2.77548e-01, -5.01336e-01],\n       [ 6.48000e-04,  8.73864e-01,  4.84844e-01]])"
     },
     "execution_count": 11,
     "metadata": {},
     "output_type": "execute_result"
    }
   ],
   "source": [
    "rotation_R = hc.rotation_matrix(0.764, 0.450, 0.234, 0.398)\n",
    "rotation_R"
   ],
   "metadata": {
    "collapsed": false,
    "pycharm": {
     "name": "#%%\n"
    }
   }
  },
  {
   "cell_type": "code",
   "execution_count": 5,
   "outputs": [
    {
     "data": {
      "text/plain": "array([[-2.9922e+03,  0.0000e+00,  1.1515e+03],\n       [ 0.0000e+00,  2.9922e+03,  7.6750e+02],\n       [ 0.0000e+00,  0.0000e+00,  1.0000e+00]])"
     },
     "execution_count": 5,
     "metadata": {},
     "output_type": "execute_result"
    }
   ],
   "source": [
    "c_r = np.array([[8.3214],\n",
    "                [-6.617],\n",
    "                [5]])\n",
    "c_l = np.array([[8],\n",
    "                [-7],\n",
    "                [5]])\n",
    "K, K_small = hc.calibration_matrix(0.03, 99740, 2304, 1536)\n",
    "K_small"
   ],
   "metadata": {
    "collapsed": false,
    "pycharm": {
     "name": "#%%\n"
    }
   }
  },
  {
   "cell_type": "markdown",
   "source": [
    "K_small means calibration matrix and dimension is 3*3"
   ],
   "metadata": {
    "collapsed": false
   }
  },
  {
   "cell_type": "code",
   "execution_count": 12,
   "outputs": [
    {
     "data": {
      "text/plain": "array([[-1.49496543e+03],\n       [ 2.96868412e-01],\n       [-1.79056000e-04]])"
     },
     "execution_count": 12,
     "metadata": {},
     "output_type": "execute_result"
    }
   ],
   "source": [
    "e = K_small @ rotation_L.T @ (c_r - c_l)\n",
    "e"
   ],
   "metadata": {
    "collapsed": false,
    "pycharm": {
     "name": "#%%\n"
    }
   }
  },
  {
   "cell_type": "code",
   "execution_count": 9,
   "outputs": [
    {
     "data": {
      "text/plain": "array([[1.],\n       [0.],\n       [0.]])"
     },
     "execution_count": 9,
     "metadata": {},
     "output_type": "execute_result"
    }
   ],
   "source": [
    "n_brickwall = hc.normal_vector_of_plane(0.5, 0.5, 0.5, 0.5)\n",
    "n_brickwall"
   ],
   "metadata": {
    "collapsed": false,
    "pycharm": {
     "name": "#%%\n"
    }
   }
  },
  {
   "cell_type": "markdown",
   "source": [
    "n_brickwall means the normal vector of plane"
   ],
   "metadata": {
    "collapsed": false,
    "pycharm": {
     "name": "#%% md\n"
    }
   }
  },
  {
   "cell_type": "code",
   "execution_count": 13,
   "outputs": [
    {
     "data": {
      "text/plain": "array([[ 1.02642542e+00,  1.67338365e-02, -2.78607757e+02],\n       [-1.74207640e-02,  9.78764611e-01,  2.47754599e+02],\n       [ 2.65019906e-05, -2.30473209e-05,  9.81406962e-01]])"
     },
     "execution_count": 13,
     "metadata": {},
     "output_type": "execute_result"
    }
   ],
   "source": [
    "H_infty = K_small @ rotation_L.T @ np.linalg.inv(rotation_R.T) @ np.linalg.inv(K_small)\n",
    "H_infty"
   ],
   "metadata": {
    "collapsed": false,
    "pycharm": {
     "name": "#%%\n"
    }
   }
  },
  {
   "cell_type": "code",
   "execution_count": 14,
   "outputs": [
    {
     "data": {
      "text/plain": "array([[9.3214]])"
     },
     "execution_count": 14,
     "metadata": {},
     "output_type": "execute_result"
    }
   ],
   "source": [
    "d_brickwall = hc.distance_from_plane_to_camera(n_brickwall, np.array([[-1],\n",
    "                                                                   [-1],\n",
    "                                                                   [0]], dtype=float), c_r)\n",
    "d_brickwall"
   ],
   "metadata": {
    "collapsed": false,
    "pycharm": {
     "name": "#%%\n"
    }
   }
  },
  {
   "cell_type": "markdown",
   "source": [
    "d_brickwall means the distance between the camera 1 and the plane"
   ],
   "metadata": {
    "collapsed": false
   }
  },
  {
   "cell_type": "code",
   "execution_count": 15,
   "outputs": [
    {
     "data": {
      "text/plain": "array([[-2.05716769e-05, -1.42716107e-05,  1.11526634e-01]])"
     },
     "execution_count": 15,
     "metadata": {},
     "output_type": "execute_result"
    }
   ],
   "source": [
    "q_brickwall_T = n_brickwall.T @ np.linalg.inv(rotation_R.T) @ np.linalg.inv(K_small) / d_brickwall\n",
    "q_brickwall_T\n"
   ],
   "metadata": {
    "collapsed": false,
    "pycharm": {
     "name": "#%%\n"
    }
   }
  },
  {
   "cell_type": "code",
   "execution_count": 16,
   "outputs": [
    {
     "data": {
      "text/plain": "array([[ 1.05717936e+00,  3.80694012e-02, -4.45336219e+02],\n       [-1.74268711e-02,  9.78760374e-01,  2.47787708e+02],\n       [ 2.65056741e-05, -2.30447655e-05,  9.81386992e-01]])"
     },
     "execution_count": 16,
     "metadata": {},
     "output_type": "execute_result"
    }
   ],
   "source": [
    "recalculate_H_brick = H_infty + e @ q_brickwall_T  \n",
    "recalculate_H_brick"
   ],
   "metadata": {
    "collapsed": false,
    "pycharm": {
     "name": "#%%\n"
    }
   }
  },
  {
   "cell_type": "markdown",
   "source": [
    "But when I warp the image with this homography, the result is not right. I have focused on it the whole day. But I can't find the reason.\n",
    "\n"
   ],
   "metadata": {
    "collapsed": false
   }
  }
 ],
 "metadata": {
  "kernelspec": {
   "display_name": "Python 3",
   "language": "python",
   "name": "python3"
  },
  "language_info": {
   "codemirror_mode": {
    "name": "ipython",
    "version": 2
   },
   "file_extension": ".py",
   "mimetype": "text/x-python",
   "name": "python",
   "nbconvert_exporter": "python",
   "pygments_lexer": "ipython2",
   "version": "2.7.6"
  }
 },
 "nbformat": 4,
 "nbformat_minor": 0
}