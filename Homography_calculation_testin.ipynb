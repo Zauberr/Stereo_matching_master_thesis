{
 "cells": [
  {
   "cell_type": "code",
   "execution_count": 70,
   "outputs": [],
   "source": [
    "import numpy as np\n",
    "import math\n",
    "import cv2"
   ],
   "metadata": {
    "collapsed": false,
    "pycharm": {
     "name": "#%%\n"
    }
   }
  },
  {
   "cell_type": "code",
   "execution_count": 71,
   "outputs": [
    {
     "data": {
      "text/plain": "array([[1., 0., 0.],\n       [0., 1., 0.],\n       [0., 0., 1.]])"
     },
     "execution_count": 71,
     "metadata": {},
     "output_type": "execute_result"
    }
   ],
   "source": [
    "angle_z = 0\n",
    "angle_y = 0\n",
    "angle_x = 0\n",
    "R_z = np.array([[math.cos(math.radians(angle_z)), -math.sin(math.radians(angle_z)), 0],\n",
    "                    [math.sin(math.radians(angle_z)), math.cos(math.radians(angle_z)), 0],\n",
    "                    [0, 0, 1]])\n",
    "R_y = np.array([[math.cos(math.radians(angle_y)), 0, math.sin(math.radians(angle_y))],\n",
    "                    [0, 1, 0],\n",
    "                    [-math.sin(math.radians(angle_y)), 0, math.cos(math.radians(angle_y))]])\n",
    "R_x = np.array([[1, 0, 0],\n",
    "                    [0, math.cos(math.radians(angle_x)), -math.sin(math.radians(angle_x))],\n",
    "                    [0, math.sin(math.radians(angle_x)), math.cos(math.radians(angle_x))]])\n",
    "rotation_L = R_z @ R_y @ R_x\n",
    "rotation_L"
   ],
   "metadata": {
    "collapsed": false,
    "pycharm": {
     "name": "#%%\n"
    }
   }
  },
  {
   "cell_type": "code",
   "execution_count": 72,
   "outputs": [
    {
     "data": {
      "text/plain": "array([[1., 0., 0.],\n       [0., 1., 0.],\n       [0., 0., 1.]])"
     },
     "execution_count": 72,
     "metadata": {},
     "output_type": "execute_result"
    }
   ],
   "source": [
    "angle_z = 0\n",
    "angle_y = 0\n",
    "angle_x = 0\n",
    "R_z = np.array([[math.cos(math.radians(angle_z)), -math.sin(math.radians(angle_z)), 0],\n",
    "                    [math.sin(math.radians(angle_z)), math.cos(math.radians(angle_z)), 0],\n",
    "                    [0, 0, 1]])\n",
    "R_y = np.array([[math.cos(math.radians(angle_y)), 0, math.sin(math.radians(angle_y))],\n",
    "                    [0, 1, 0],\n",
    "                    [-math.sin(math.radians(angle_y)), 0, math.cos(math.radians(angle_y))]])\n",
    "R_x = np.array([[1, 0, 0],\n",
    "                    [0, math.cos(math.radians(angle_x)), -math.sin(math.radians(angle_x))],\n",
    "                    [0, math.sin(math.radians(angle_x)), math.cos(math.radians(angle_x))]])\n",
    "rotation_R = R_z @ R_y @ R_x\n",
    "rotation_R"
   ],
   "metadata": {
    "collapsed": false,
    "pycharm": {
     "name": "#%%\n"
    }
   }
  },
  {
   "cell_type": "code",
   "execution_count": 73,
   "outputs": [
    {
     "data": {
      "text/plain": "array([[ 0.5],\n       [-0. ],\n       [-5. ]])"
     },
     "execution_count": 73,
     "metadata": {},
     "output_type": "execute_result"
    }
   ],
   "source": [
    "positionOfCam_L = np.array([[-0.5],\n",
    "                            [0],\n",
    "                            [5]])\n",
    "temp_0 = -np.matmul(np.transpose(rotation_L), positionOfCam_L)\n",
    "temp_0"
   ],
   "metadata": {
    "collapsed": false,
    "pycharm": {
     "name": "#%%\n"
    }
   }
  },
  {
   "cell_type": "code",
   "execution_count": 74,
   "outputs": [
    {
     "data": {
      "text/plain": "array([[ 1. ,  0. ,  0. ,  0.5],\n       [ 0. ,  1. ,  0. , -0. ],\n       [ 0. ,  0. ,  1. , -5. ]])"
     },
     "execution_count": 74,
     "metadata": {},
     "output_type": "execute_result"
    }
   ],
   "source": [
    "temp_1 = np.concatenate((np.transpose(rotation_L), temp_0), axis=1)\n",
    "temp_1"
   ],
   "metadata": {
    "collapsed": false,
    "pycharm": {
     "name": "#%%\n"
    }
   }
  },
  {
   "cell_type": "code",
   "execution_count": 75,
   "outputs": [
    {
     "data": {
      "text/plain": "array([[ 1. ,  0. ,  0. ,  0.5],\n       [ 0. ,  1. ,  0. , -0. ],\n       [ 0. ,  0. ,  1. , -5. ],\n       [ 0. ,  0. ,  0. ,  1. ]])"
     },
     "execution_count": 75,
     "metadata": {},
     "output_type": "execute_result"
    }
   ],
   "source": [
    "transformation_L = np.concatenate((temp_1, np.array([[0, 0, 0, 1]])), axis=0)\n",
    "transformation_L\n"
   ],
   "metadata": {
    "collapsed": false,
    "pycharm": {
     "name": "#%%\n"
    }
   }
  },
  {
   "cell_type": "code",
   "execution_count": 76,
   "outputs": [
    {
     "data": {
      "text/plain": "array([[-0.5],\n       [-0. ],\n       [-5. ]])"
     },
     "execution_count": 76,
     "metadata": {},
     "output_type": "execute_result"
    }
   ],
   "source": [
    "positionOfCam_R = np.array([[0.5],\n",
    "                            [0],\n",
    "                            [5]])\n",
    "temp_0R = -np.matmul(np.transpose(rotation_R), positionOfCam_R)\n",
    "temp_0R"
   ],
   "metadata": {
    "collapsed": false,
    "pycharm": {
     "name": "#%%\n"
    }
   }
  },
  {
   "cell_type": "code",
   "execution_count": 77,
   "outputs": [
    {
     "data": {
      "text/plain": "array([[ 1. ,  0. ,  0. , -0.5],\n       [ 0. ,  1. ,  0. , -0. ],\n       [ 0. ,  0. ,  1. , -5. ]])"
     },
     "execution_count": 77,
     "metadata": {},
     "output_type": "execute_result"
    }
   ],
   "source": [
    "temp_1R = np.concatenate((np.transpose(rotation_R), temp_0R), axis=1)\n",
    "temp_1R"
   ],
   "metadata": {
    "collapsed": false,
    "pycharm": {
     "name": "#%%\n"
    }
   }
  },
  {
   "cell_type": "code",
   "execution_count": 78,
   "outputs": [
    {
     "data": {
      "text/plain": "array([[ 1. ,  0. ,  0. , -0.5],\n       [ 0. ,  1. ,  0. , -0. ],\n       [ 0. ,  0. ,  1. , -5. ],\n       [ 0. ,  0. ,  0. ,  1. ]])"
     },
     "execution_count": 78,
     "metadata": {},
     "output_type": "execute_result"
    }
   ],
   "source": [
    "transformation_R = np.concatenate((temp_1R, np.array([[0, 0, 0, 1]])), axis=0)\n",
    "transformation_R"
   ],
   "metadata": {
    "collapsed": false,
    "pycharm": {
     "name": "#%%\n"
    }
   }
  },
  {
   "cell_type": "code",
   "execution_count": 79,
   "outputs": [
    {
     "data": {
      "text/plain": "array([[-238.0425,    0.    ,  960.    ,    0.    ],\n       [   0.    ,  238.0425,  540.    ,    0.    ],\n       [   0.    ,    0.    ,    1.    ,    0.    ],\n       [   0.    ,    0.    ,    0.    ,    1.    ]])"
     },
     "execution_count": 79,
     "metadata": {},
     "output_type": "execute_result"
    }
   ],
   "source": [
    "focal_length = 0.03\n",
    "scaling_factor = 7934.75\n",
    "width = 1920\n",
    "height = 1080\n",
    "K = np.array([[(- focal_length * scaling_factor), 0, (width / 2), 0],\n",
    "                  [0, (focal_length * scaling_factor), (height / 2), 0],\n",
    "                  [0, 0, 1, 0],\n",
    "                  [0, 0, 0, 1]])\n",
    "K"
   ],
   "metadata": {
    "collapsed": false,
    "pycharm": {
     "name": "#%%\n"
    }
   }
  },
  {
   "cell_type": "code",
   "execution_count": 80,
   "outputs": [
    {
     "data": {
      "text/plain": "array([[-4.20093051e-03, -0.00000000e+00,  4.03289329e+00,\n        -5.00000000e-01],\n       [ 0.00000000e+00,  4.20093051e-03, -2.26850247e+00,\n         0.00000000e+00],\n       [ 0.00000000e+00,  0.00000000e+00,  1.00000000e+00,\n         5.00000000e+00],\n       [ 0.00000000e+00,  0.00000000e+00,  0.00000000e+00,\n         1.00000000e+00]])"
     },
     "execution_count": 80,
     "metadata": {},
     "output_type": "execute_result"
    }
   ],
   "source": [
    "H_L = np.matmul(K, transformation_L)\n",
    "H_L = np.linalg.inv(H_L)\n",
    "H_L"
   ],
   "metadata": {
    "collapsed": false,
    "pycharm": {
     "name": "#%%\n"
    }
   }
  },
  {
   "cell_type": "code",
   "execution_count": 81,
   "outputs": [
    {
     "data": {
      "text/plain": "array([[-4.20093051e-03, -0.00000000e+00,  4.03289329e+00,\n         5.00000000e-01],\n       [ 0.00000000e+00,  4.20093051e-03, -2.26850247e+00,\n         0.00000000e+00],\n       [ 0.00000000e+00,  0.00000000e+00,  1.00000000e+00,\n         5.00000000e+00],\n       [ 0.00000000e+00,  0.00000000e+00,  0.00000000e+00,\n         1.00000000e+00]])"
     },
     "execution_count": 81,
     "metadata": {},
     "output_type": "execute_result"
    }
   ],
   "source": [
    "H_R = np.matmul(K, transformation_R)\n",
    "H_R = np.linalg.inv(H_R)\n",
    "H_R"
   ],
   "metadata": {
    "collapsed": false,
    "pycharm": {
     "name": "#%%\n"
    }
   }
  },
  {
   "cell_type": "code",
   "execution_count": 82,
   "outputs": [
    {
     "data": {
      "text/plain": "array([[-0.00420093, -0.        ,  4.03289329],\n       [ 0.        ,  0.00420093, -2.26850247],\n       [ 0.        ,  0.        ,  0.        ]])"
     },
     "execution_count": 82,
     "metadata": {},
     "output_type": "execute_result"
    }
   ],
   "source": [
    "H_L1 = np.concatenate((H_L[0:2, 0:3], H_L[3, 0:3].reshape(1, 3)), axis=0)\n",
    "H_L1\n"
   ],
   "metadata": {
    "collapsed": false,
    "pycharm": {
     "name": "#%%\n"
    }
   }
  },
  {
   "cell_type": "code",
   "execution_count": 83,
   "outputs": [
    {
     "data": {
      "text/plain": "array([[-0.5],\n       [ 0. ],\n       [ 1. ]])"
     },
     "execution_count": 83,
     "metadata": {},
     "output_type": "execute_result"
    }
   ],
   "source": [
    "h_L4 = np.array([[H_L[0, 3]],\n",
    "                         [H_L[1, 3]],\n",
    "                         [H_L[3, 3]]])\n",
    "h_L4\n"
   ],
   "metadata": {
    "collapsed": false,
    "pycharm": {
     "name": "#%%\n"
    }
   }
  },
  {
   "cell_type": "code",
   "execution_count": 84,
   "outputs": [
    {
     "data": {
      "text/plain": "array([0. , 0. , 0.2])"
     },
     "execution_count": 84,
     "metadata": {},
     "output_type": "execute_result"
    }
   ],
   "source": [
    "h_L3 = H_L[2, 0:3] / H_L[2, 3]\n",
    "h_L3\n"
   ],
   "metadata": {
    "collapsed": false,
    "pycharm": {
     "name": "#%%\n"
    }
   }
  },
  {
   "cell_type": "code",
   "execution_count": 85,
   "outputs": [
    {
     "data": {
      "text/plain": "array([[-0.00420093,  0.        ,  4.13289329],\n       [ 0.        ,  0.00420093, -2.26850247],\n       [ 0.        ,  0.        , -0.2       ]])"
     },
     "execution_count": 85,
     "metadata": {},
     "output_type": "execute_result"
    }
   ],
   "source": [
    "h_L3 = h_L3.reshape(3, 1)\n",
    "H_L_rebuilt = np.matmul(np.concatenate((H_L1, h_L4), axis=1),\n",
    "                                np.concatenate((np.eye(3), -np.transpose(h_L3)), axis=0))\n",
    "H_L_rebuilt\n"
   ],
   "metadata": {
    "collapsed": false,
    "pycharm": {
     "name": "#%%\n"
    }
   }
  },
  {
   "cell_type": "code",
   "execution_count": 86,
   "outputs": [
    {
     "data": {
      "text/plain": "array([[-0.00420093,  0.        ,  3.93289329],\n       [ 0.        ,  0.00420093, -2.26850247],\n       [ 0.        ,  0.        , -0.2       ]])"
     },
     "execution_count": 86,
     "metadata": {},
     "output_type": "execute_result"
    }
   ],
   "source": [
    "H_R1 = np.concatenate((H_L[0:2, 0:3], H_L[3, 0:3].reshape(1, 3)), axis=0)\n",
    "h_R4 = np.array([[H_R[0, 3]],\n",
    "                         [H_R[1, 3]],\n",
    "                         [H_R[3, 3]]])\n",
    "h_R3 = H_R[2, 0:3] / H_R[2, 3]\n",
    "h_R3 = h_R3.reshape(3, 1)\n",
    "H_R_rebuilt = np.matmul(np.concatenate((H_R1, h_R4), axis=1),\n",
    "                        np.concatenate((np.eye(3), -np.transpose(h_R3)), axis=0))\n",
    "H_R_rebuilt"
   ],
   "metadata": {
    "collapsed": false,
    "pycharm": {
     "name": "#%%\n"
    }
   }
  },
  {
   "cell_type": "code",
   "execution_count": 87,
   "outputs": [
    {
     "data": {
      "text/plain": "array([[1.00000000e+00, 0.00000000e+00, 4.76085000e+01],\n       [0.00000000e+00, 1.00000000e+00, 2.99760217e-14],\n       [0.00000000e+00, 0.00000000e+00, 1.00000000e+00]])"
     },
     "execution_count": 87,
     "metadata": {},
     "output_type": "execute_result"
    }
   ],
   "source": [
    "H_R_to_L = np.matmul(np.linalg.inv(H_L_rebuilt), H_R_rebuilt)\n",
    "H_R_to_L"
   ],
   "metadata": {
    "collapsed": false,
    "pycharm": {
     "name": "#%%\n"
    }
   }
  },
  {
   "cell_type": "markdown",
   "source": [
    "But the result is not correct. I use it to warp image. And the result is in the home file.(I want to show it here, unfortunately failed)"
   ],
   "metadata": {
    "collapsed": false,
    "pycharm": {
     "name": "#%% md\n"
    }
   }
  }
 ],
 "metadata": {
  "kernelspec": {
   "display_name": "Python 3",
   "language": "python",
   "name": "python3"
  },
  "language_info": {
   "codemirror_mode": {
    "name": "ipython",
    "version": 2
   },
   "file_extension": ".py",
   "mimetype": "text/x-python",
   "name": "python",
   "nbconvert_exporter": "python",
   "pygments_lexer": "ipython2",
   "version": "2.7.6"
  }
 },
 "nbformat": 4,
 "nbformat_minor": 0
}